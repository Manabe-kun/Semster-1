{
 "cells": [
  {
   "cell_type": "code",
   "execution_count": 1,
   "metadata": {},
   "outputs": [
    {
     "name": "stdout",
     "output_type": "stream",
     "text": [
      "Looking in indexes: https://download.pytorch.org/whl/cu117\n",
      "Requirement already satisfied: torch in c:\\users\\kalyan\\win-virtualenvs\\bigdata_ds\\lib\\site-packages (2.0.0+cu117)\n",
      "Requirement already satisfied: torchvision in c:\\users\\kalyan\\win-virtualenvs\\bigdata_ds\\lib\\site-packages (0.15.1+cu117)\n",
      "Requirement already satisfied: torchaudio in c:\\users\\kalyan\\win-virtualenvs\\bigdata_ds\\lib\\site-packages (2.0.1+cu117)\n",
      "Requirement already satisfied: filelock in c:\\users\\kalyan\\win-virtualenvs\\bigdata_ds\\lib\\site-packages (from torch) (3.9.0)\n",
      "Requirement already satisfied: typing-extensions in c:\\users\\kalyan\\win-virtualenvs\\bigdata_ds\\lib\\site-packages (from torch) (4.5.0)\n",
      "Requirement already satisfied: sympy in c:\\users\\kalyan\\win-virtualenvs\\bigdata_ds\\lib\\site-packages (from torch) (1.11.1)\n",
      "Requirement already satisfied: networkx in c:\\users\\kalyan\\win-virtualenvs\\bigdata_ds\\lib\\site-packages (from torch) (3.0)\n",
      "Requirement already satisfied: jinja2 in c:\\users\\kalyan\\win-virtualenvs\\bigdata_ds\\lib\\site-packages (from torch) (3.1.2)\n",
      "Requirement already satisfied: numpy in c:\\users\\kalyan\\win-virtualenvs\\bigdata_ds\\lib\\site-packages (from torchvision) (1.23.5)\n",
      "Requirement already satisfied: requests in c:\\users\\kalyan\\win-virtualenvs\\bigdata_ds\\lib\\site-packages (from torchvision) (2.28.2)\n",
      "Requirement already satisfied: pillow!=8.3.*,>=5.3.0 in c:\\users\\kalyan\\win-virtualenvs\\bigdata_ds\\lib\\site-packages (from torchvision) (9.4.0)\n",
      "Requirement already satisfied: MarkupSafe>=2.0 in c:\\users\\kalyan\\win-virtualenvs\\bigdata_ds\\lib\\site-packages (from jinja2->torch) (2.1.2)\n",
      "Requirement already satisfied: charset-normalizer<4,>=2 in c:\\users\\kalyan\\win-virtualenvs\\bigdata_ds\\lib\\site-packages (from requests->torchvision) (3.1.0)\n",
      "Requirement already satisfied: idna<4,>=2.5 in c:\\users\\kalyan\\win-virtualenvs\\bigdata_ds\\lib\\site-packages (from requests->torchvision) (3.4)\n",
      "Requirement already satisfied: urllib3<1.27,>=1.21.1 in c:\\users\\kalyan\\win-virtualenvs\\bigdata_ds\\lib\\site-packages (from requests->torchvision) (1.26.15)\n",
      "Requirement already satisfied: certifi>=2017.4.17 in c:\\users\\kalyan\\win-virtualenvs\\bigdata_ds\\lib\\site-packages (from requests->torchvision) (2022.12.7)\n",
      "Requirement already satisfied: mpmath>=0.19 in c:\\users\\kalyan\\win-virtualenvs\\bigdata_ds\\lib\\site-packages (from sympy->torch) (1.2.1)\n"
     ]
    },
    {
     "name": "stderr",
     "output_type": "stream",
     "text": [
      "\n",
      "[notice] A new release of pip is available: 23.0.1 -> 23.1\n",
      "[notice] To update, run: python.exe -m pip install --upgrade pip\n"
     ]
    }
   ],
   "source": [
    "\n",
    "!pip3 install torch torchvision torchaudio --index-url https://download.pytorch.org/whl/cu117"
   ]
  },
  {
   "cell_type": "code",
   "execution_count": 2,
   "metadata": {},
   "outputs": [
    {
     "name": "stdout",
     "output_type": "stream",
     "text": [
      "1797\n",
      "1797\n"
     ]
    },
    {
     "data": {
      "text/plain": [
       "<matplotlib.image.AxesImage at 0x1c888b89b50>"
      ]
     },
     "execution_count": 2,
     "metadata": {},
     "output_type": "execute_result"
    },
    {
     "data": {
      "image/png": "[encoded data removed]",
      "text/plain": [
       "<Figure size 400x400 with 1 Axes>"
      ]
     },
     "metadata": {},
     "output_type": "display_data"
    }
   ],
   "source": [
    "# Required Imports\n",
    "from sklearn import *\n",
    "from sklearn.model_selection import *\n",
    "import torch\n",
    "import torch.nn as Neurals\n",
    "import torch.nn.functional as NeuralsFunctional\n",
    "import torch.optim as optimizer\n",
    "from matplotlib import pyplot as plt\n",
    "\n",
    "'''\n",
    "import torch\n",
    "import torch.Neurals as Neurals\n",
    "import torch.Neurals.functional as NeuralsFunctional\n",
    "import torch.optim as optimizer\n",
    "\n",
    "'''\n",
    "\n",
    "\n",
    "Numbers = datasets.load_digits()\n",
    "plt.imshow(Numbers.images[-1], cmap=plt.cm.gray_r, interpolation=\"nearest\")\n",
    "plt.show()"
   ]
  },
  {
   "cell_type": "code",
   "execution_count": 3,
   "metadata": {},
   "outputs": [
    {
     "name": "stdout",
     "output_type": "stream",
     "text": [
      "Digit 0: 178\n",
      "Digit 1: 182\n",
      "Digit 2: 177\n",
      "Digit 3: 183\n",
      "Digit 4: 181\n",
      "Digit 5: 182\n",
      "Digit 6: 181\n",
      "Digit 7: 179\n",
      "Digit 8: 174\n",
      "Digit 9: 180\n"
     ]
    }
   ],
   "source": [
    "NumberCount = {}\n",
    "for Number in Numbers.target:\n",
    "    if Number in NumberCount:\n",
    "        NumberCount[Number] += 1\n",
    "    else:\n",
    "        NumberCount[Number] = 1\n",
    "\n",
    "keys = list(NumberCount.keys())\n",
    "i = 0\n",
    "\n",
    "while i < len(keys):\n",
    "    digit = keys[i]\n",
    "    count = NumberCount[digit]\n",
    "    print(\"Digit\", digit, \":\", count)\n",
    "    i += 1"
   ]
  },
  {
   "cell_type": "code",
   "execution_count": 4,
   "metadata": {},
   "outputs": [],
   "source": [
    "\n",
    "X_train, X_test, y_train, y_test = train_test_split(Numbers.data, Numbers.target, test_size=0.3, random_state=22)\n",
    "\n",
    "X_train = torch.tensor(X_train, dtype=torch.float32)\n",
    "X_test = torch.tensor(X_test, dtype=torch.float32)\n",
    "y_train = torch.tensor(y_train, dtype=torch.long)\n",
    "y_test = torch.tensor(y_test, dtype=torch.long)"
   ]
  },
  {
   "cell_type": "code",
   "execution_count": 5,
   "metadata": {},
   "outputs": [
    {
     "name": "stdout",
     "output_type": "stream",
     "text": [
      "NeuralNetSklearnDigits(\n",
      "  (fc1): Linear(in_features=64, out_features=32, bias=True)\n",
      "  (fc2): Linear(in_features=32, out_features=10, bias=True)\n",
      ")\n"
     ]
    }
   ],
   "source": [
    "\n",
    "class NeuralNetworkNumbers(Neurals.Module):\n",
    "    def __init__ (self):\n",
    "        super().__init__()\n",
    "        self.fc1 = Neurals.Linear(64, 32)\n",
    "        self.fc2 = Neurals.Linear(32,10)\n",
    "\n",
    "    def forward(self, X):\n",
    "        X = X.view(-1, 64)\n",
    "        X = torch.relu(self.fc1(X))\n",
    "        X = self.fc2(X)\n",
    "        return X\n",
    "\n",
    "digits_model = NeuralNetworkNumbers()\n",
    "print (digits_model)"
   ]
  },
  {
   "cell_type": "code",
   "execution_count": 6,
   "metadata": {},
   "outputs": [],
   "source": [
    "\n",
    "optimizer = optimizer.Adam(digits_model.parameters(), lr=0.02)\n",
    "\n",
    "for epoch in range(180):\n",
    "    optimizer.zero_grad()\n",
    "    output = digits_model(X_train)\n",
    "    loss = Neurals.CrossEntropyLoss()(output, y_train)\n",
    "    loss.backward()\n",
    "    optimizer.step()"
   ]
  },
  {
   "cell_type": "code",
   "execution_count": 7,
   "metadata": {},
   "outputs": [
    {
     "name": "stdout",
     "output_type": "stream",
     "text": [
      "Test accuracy: 0.9666666666666667\n"
     ]
    }
   ],
   "source": [
    "\n",
    "y_pred = digits_model(X_test)\n",
    "accuracy = accuracy_score(y_test, torch.argmax(y_pred, axis=1))\n",
    "print(\"Test accuracy =\", accuracy*100)"
   ]
  },
  {
   "attachments": {},
   "cell_type": "markdown",
   "metadata": {},
   "source": [
    "# Extra Credit Assignment"
   ]
  },
  {
   "cell_type": "code",
   "execution_count": 8,
   "metadata": {},
   "outputs": [],
   "source": [
    "\n",
    "import os\n",
    "from PIL import Image\n",
    "import torchvision.transforms as transforms\n",
    "from torch.utils.data import Dataset, DataLoader, random_split"
   ]
  },
  {
   "cell_type": "code",
   "execution_count": 9,
   "metadata": {},
   "outputs": [],
   "source": [
    "# create a new class by inheriting the Dataset class.\n",
    "class CustomImgDataset(Dataset):\n",
    "    # constructor\n",
    "    def __init__(self, path, transform=None):\n",
    "        # directory where images were present\n",
    "        self.path = path\n",
    "        # get all the files in the path dir\n",
    "        self.image_paths = os.listdir(path)\n",
    "        # remove the uNeuralsecessary DS_Store file\n",
    "        self.image_paths.remove(\".DS_Store\")\n",
    "        self.transform = transform\n",
    "    \n",
    "    # modifying the inherited methods\n",
    "    def __getitem__(self, index):\n",
    "        # open the image using PIL\n",
    "        image = Image.open(os.path.join(self.path, self.image_paths[index]))\n",
    "        # use a function to set the target class\n",
    "        target = self.set_target_class(self.image_paths[index])\n",
    "        # transform the image\n",
    "        if self.transform is not None:\n",
    "            image = self.transform(image)\n",
    "        return image, target\n",
    "    \n",
    "    # total no. of samples\n",
    "    def __len__(self):\n",
    "        return len(self.image_paths)\n",
    "    \n",
    "    # NeuralsFunctionalunction to set target class as Burn(1) or Not Burn(0)\n",
    "    # based on the filename.\n",
    "    # filename = img1-62.jpg - Burn(1) else Not Burn(0)\n",
    "    def set_target_class(self, filename):\n",
    "        # Prepare a list of image names - img1-62.jpg\n",
    "        burnList = [ f'img{idx}.jpg' for idx in range(1, 62+1)]\n",
    "        # Check if the given filename is present to set Burn\n",
    "        if filename in burnList:\n",
    "            return 1\n",
    "        # Else Not Burn\n",
    "        else:\n",
    "            return 0\n",
    "\n",
    "# Image transformations\n",
    "# resize and normalize the image\n",
    "transform = transforms.Compose([\n",
    "    # resize\n",
    "    transforms.Resize((200,200)),\n",
    "    # convert to tensor\n",
    "    transforms.ToTensor(),\n",
    "    # normalize\n",
    "    transforms.Normalize(mean=[0.5, 0.5, 0.5], std=[0.5, 0.5, 0.5])\n",
    "])\n",
    "\n",
    "# DIR for the burnimages dataset\n",
    "path = \"BurnImages\"\n",
    "\n",
    "dataset = CustomImgDataset(path, transform)\n",
    "dataloader = DataLoader(dataset, batch_size=32, shuffle=True)"
   ]
  },
  {
   "cell_type": "code",
   "execution_count": null,
   "metadata": {},
   "outputs": [],
   "source": [
    "import os\n",
    "from PIL import Image\n",
    "\n",
    "# Set the path to the directory containing the images\n",
    "directory = 'path/to/images'\n",
    "\n",
    "# Create an empty list to store the image filenames\n",
    "image_filenames = []\n",
    "\n",
    "# Loop through all the image filenames\n",
    "for i in range(1, 63):\n",
    "    # Construct the filename for the current image\n",
    "    filename = os.path.join(directory, 'burn', f'img{i}.jpg')\n",
    "    \n",
    "    # Add the filename to the list\n",
    "    image_filenames.append(filename)\n",
    "\n",
    "# Loop through the list of image filenames\n",
    "for filename in image_filenames:\n",
    "    # Open the image file\n",
    "    image = Image.open(filename)\n",
    "    \n",
    "    # Display the image\n",
    "    image.show()\n"
   ]
  },
  {
   "cell_type": "code",
   "execution_count": 10,
   "metadata": {},
   "outputs": [],
   "source": [
    "# set train and test sizes\n",
    "train_size = int(0.8 * len(dataset))\n",
    "test_size = len(dataset) - train_size\n",
    "# Split dataset into train and test sets\n",
    "train_dataset, test_dataset = random_split(dataset, [train_size, test_size],\n",
    "                                           generator=torch.Generator().manual_seed(42))\n",
    "\n",
    "# Define the data loaders\n",
    "train_loader = DataLoader(train_dataset, batch_size=32, shuffle=True, num_workers=0)\n",
    "test_loader = DataLoader(test_dataset, batch_size=32, shuffle=True, num_workers=0)"
   ]
  },
  {
   "cell_type": "code",
   "execution_count": 11,
   "metadata": {},
   "outputs": [],
   "source": [
    "# CNeurals - Convolution neural network\n",
    "class BurnCNeurals(Neurals.Module):\n",
    "    def __init__(self):\n",
    "        super(BurnCNeurals, self).__init__()\n",
    "        self.conv1 = Neurals.Conv2d(3, 32, kernel_size=3, padding=1)\n",
    "        self.bn1 = Neurals.BatchNorm2d(32)\n",
    "        self.conv2 = Neurals.Conv2d(32, 64, kernel_size=3, padding=1)\n",
    "        self.bn2 = Neurals.BatchNorm2d(64)\n",
    "        self.conv3 = Neurals.Conv2d(64, 128, kernel_size=3, padding=1)\n",
    "        self.bn3 = Neurals.BatchNorm2d(128)\n",
    "        self.fc1 = Neurals.Linear(128*50*50, 256)\n",
    "        self.fc2 = Neurals.Linear(256, 1)\n",
    "\n",
    "    def forward(self, x):\n",
    "        x = NeuralsFunctional.relu(self.bn1(self.conv1(x)))\n",
    "        x = NeuralsFunctional.max_pool2d(NeuralsFunctional.relu(self.bn2(self.conv2(x))), 2)\n",
    "        x = NeuralsFunctional.max_pool2d(NeuralsFunctional.relu(self.bn3(self.conv3(x))), 2)\n",
    "        x = x.view(-1, 128*50*50)\n",
    "        x = NeuralsFunctional.relu(self.fc1(x))\n",
    "        x = self.fc2(x)\n",
    "        return x.squeeze()"
   ]
  },
  {
   "cell_type": "code",
   "execution_count": 12,
   "metadata": {},
   "outputs": [
    {
     "name": "stdout",
     "output_type": "stream",
     "text": [
      "[    1,     3] loss: 14.605\n",
      "[    2,     3] loss: 0.540\n",
      "[    3,     3] loss: 0.971\n",
      "[    4,     3] loss: 0.255\n",
      "[    5,     3] loss: 0.183\n"
     ]
    }
   ],
   "source": [
    "# instantiate the convolution neural network\n",
    "cNeurals = BurnCNeurals()\n",
    "\n",
    "# setup loss function and optimizer\n",
    "criterion = Neurals.BCEWithLogitsLoss()\n",
    "optimizer = optimizer.Adam(cNeurals.parameters())\n",
    "\n",
    "# train the neural network\n",
    "num_epochs = 5\n",
    "# no. of iterations/epochs to loop\n",
    "for epoch in range(num_epochs):\n",
    "    ruNeuralsing_loss = 0.0\n",
    "    for i, data in enumerate(train_loader, 0):\n",
    "        inputs, labels = data\n",
    "        # zero the param gradients\n",
    "        optimizer.zero_grad()\n",
    "        # forward -> backward -> optimize\n",
    "        outputs = cNeurals(inputs)\n",
    "        loss = criterion(outputs, labels.float())\n",
    "        loss.backward()\n",
    "        optimizer.step()\n",
    "\n",
    "        # print some loss statistics\n",
    "        ruNeuralsing_loss += loss.item()\n",
    "        if i % 4 == 2:\n",
    "            print(f'[{epoch+1:5d}, {i+1:5d}] loss: {ruNeuralsing_loss/10:.3f}')\n",
    "            ruNeuralsing_loss = 0.0"
   ]
  },
  {
   "cell_type": "code",
   "execution_count": 13,
   "metadata": {},
   "outputs": [
    {
     "name": "stdout",
     "output_type": "stream",
     "text": [
      "Accuracy of the network on the 18 test images: 88.89%.\n"
     ]
    }
   ],
   "source": [
    "# test the neural network\n",
    "correct = 0\n",
    "total = 0\n",
    "with torch.no_grad():\n",
    "    for data in test_loader:\n",
    "        images, labels = data\n",
    "        outputs = cNeurals(images)\n",
    "        predicted = torch.round(torch.sigmoid(outputs))\n",
    "        total += labels.size(0)\n",
    "        correct += (predicted == labels).sum().item()\n",
    "\n",
    "print(f'Accuracy of the network on the {len(test_dataset)} test images: {100*correct/total:.2f}%.')"
   ]
  }
 ],
 "metadata": {
  "kernelspec": {
   "display_name": "bigdata_ds",
   "language": "python",
   "name": "python3"
  },
  "language_info": {
   "codemirror_mode": {
    "name": "ipython",
    "version": 3
   },
   "file_extension": ".py",
   "mimetype": "text/x-python",
   "name": "python",
   "nbconvert_exporter": "python",
   "pygments_lexer": "ipython3",
   "version": "3.11.3"
  },
  "orig_nbformat": 4
 },
 "nbformat": 4,
 "nbformat_minor": 2
}
